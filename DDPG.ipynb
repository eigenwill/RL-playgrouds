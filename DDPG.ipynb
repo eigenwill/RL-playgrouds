{
 "cells": [
  {
   "cell_type": "markdown",
   "metadata": {},
   "source": [
    "# DDPG算法实现"
   ]
  },
  {
   "cell_type": "markdown",
   "metadata": {},
   "source": [
    "引包"
   ]
  },
  {
   "cell_type": "code",
   "execution_count": 1,
   "metadata": {},
   "outputs": [],
   "source": [
    "import torch\n",
    "import torch.nn as nn\n",
    "import torch.nn.functional as F\n",
    "import torch.optim as optim\n",
    "\n",
    "import numpy as np\n",
    "\n",
    "import random"
   ]
  },
  {
   "cell_type": "markdown",
   "metadata": {},
   "source": [
    "参数设置"
   ]
  },
  {
   "cell_type": "code",
   "execution_count": null,
   "metadata": {},
   "outputs": [],
   "source": [
    "class DDPGConfig:\n",
    "  def __init__(self):\n",
    "    self.device = torch.device(\"cpu\")#\"cuda\" if torch.cuda.is_available() else \"cpu\")  # 检测GPU\n",
    "    self.train_eps = 50  # 训练的回合数\n",
    "    self.test_eps = 50  # 测试的回合数\n",
    "    self.gamma = 0.99   # 折扣因子\n",
    "    self.critic_lr = 1e-4  # 评论家网络的学习率\n",
    "    self.actor_lr = 1e-5   # 演员网络的学习率\n",
    "    self.memory_capacity = 8000   # 经验回放的容量\n",
    "    self.batch_size = 64  # mini-batch SGD中的批量大小\n",
    "    self.target_update = 2  # 目标网络的更新频率\n",
    "    self.hidden1_dim = 256  # 网络隐藏层维度\n",
    "    self.hidden2_dim = 128\n",
    "    self.state_dim = 18\n",
    "    self.action_dim = 21\n",
    "    self.soft_tau = 1e-2  # 软更新参数"
   ]
  },
  {
   "cell_type": "markdown",
   "metadata": {},
   "source": [
    "经验回放池"
   ]
  },
  {
   "cell_type": "code",
   "execution_count": null,
   "metadata": {},
   "outputs": [],
   "source": [
    "class ReplayBuffer:\n",
    "    def __init__(self, capacity):\n",
    "        self.capacity = capacity  # 经验回放的容量\n",
    "        self.buffer = []  # 缓冲区\n",
    "        self.position = 0\n",
    "\n",
    "    def push(self, state, action, reward, next_state):\n",
    "        # 缓冲区是一个队列，容量超出时去掉开始存入的转移(transition)\n",
    "        if len(self.buffer) < self.capacity:\n",
    "            self.buffer.append(None)\n",
    "        self.buffer[self.position] = (state, action, reward, next_state)\n",
    "        self.position = (self.position + 1) % self.capacity\n",
    "\n",
    "    def sample(self, batch_size):\n",
    "        batch = random.sample(self.buffer, batch_size)  # 从列表中随机获取batch_size个元素\n",
    "        state, action, reward, next_state = zip(*batch)  # 解压成状态，动作等\n",
    "        return state, action, reward, next_state\n",
    "\n",
    "    def __len__(self):\n",
    "        # 返回当前存储的量\n",
    "        return len(self.buffer)"
   ]
  }
 ],
 "metadata": {
  "kernelspec": {
   "display_name": "rl-playground",
   "language": "python",
   "name": "python3"
  },
  "language_info": {
   "codemirror_mode": {
    "name": "ipython",
    "version": 3
   },
   "file_extension": ".py",
   "mimetype": "text/x-python",
   "name": "python",
   "nbconvert_exporter": "python",
   "pygments_lexer": "ipython3",
   "version": "3.12.7"
  }
 },
 "nbformat": 4,
 "nbformat_minor": 2
}
